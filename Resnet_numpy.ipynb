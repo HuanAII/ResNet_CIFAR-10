{
  "nbformat": 4,
  "nbformat_minor": 0,
  "metadata": {
    "colab": {
      "provenance": [],
      "authorship_tag": "ABX9TyM8rBlKeg3NWcIyMpinQgxi",
      "include_colab_link": true
    },
    "kernelspec": {
      "name": "python3",
      "display_name": "Python 3"
    },
    "language_info": {
      "name": "python"
    }
  },
  "cells": [
    {
      "cell_type": "markdown",
      "metadata": {
        "id": "view-in-github",
        "colab_type": "text"
      },
      "source": [
        "<a href=\"https://colab.research.google.com/github/HuanAII/ResNet_CIFAR-10/blob/main/Resnet_numpy.ipynb\" target=\"_parent\"><img src=\"https://colab.research.google.com/assets/colab-badge.svg\" alt=\"Open In Colab\"/></a>"
      ]
    },
    {
      "cell_type": "code",
      "execution_count": 2,
      "metadata": {
        "id": "D07Y7-K2xgPr"
      },
      "outputs": [],
      "source": [
        "import numpy as np\n",
        "import matplotlib.pyplot as plt"
      ]
    },
    {
      "cell_type": "code",
      "source": [
        "#Load data\n",
        "# https://www.cs.toronto.edu/~kriz/cifar.html\n",
        "def unpickle(file):\n",
        "    import pickle\n",
        "    with open(file, 'rb') as fo:\n",
        "        dict = pickle.load(fo, encoding='bytes')\n",
        "    return dict"
      ],
      "metadata": {
        "id": "hE5X8oUk3_f_"
      },
      "execution_count": null,
      "outputs": []
    },
    {
      "cell_type": "code",
      "source": [
        "class Conv2D:\n",
        "    def __init__(self, in_channels, out_channels, kernel_size, stride=1, padding=0):\n",
        "        self.stride = stride\n",
        "        self.padding = padding\n",
        "        self.k = kernel_size\n",
        "        self.in_c = in_channels\n",
        "        self.out_c = out_channels\n",
        "        limit = np.sqrt(6 / (in_channels + out_channels))\n",
        "        self.W = np.random.uniform(-limit, limit, (out_channels, in_channels, kernel_size, kernel_size))\n",
        "        self.b = np.zeros((out_channels, 1))\n",
        "\n",
        "    def forward(self, x):\n",
        "        self.input = x\n",
        "        n, c, h, w = x.shape\n",
        "        kh, kw = self.k, self.k\n",
        "        sh, sw = self.stride, self.stride\n",
        "        ph, pw = self.padding, self.padding\n",
        "\n",
        "        h_out = (h + 2 * ph - kh) // sh + 1\n",
        "        w_out = (w + 2 * pw - kw) // sw + 1\n",
        "\n",
        "        out = np.zeros((n, self.out_c, h_out, w_out))\n",
        "        x_padded = np.pad(x, ((0,0), (0,0), (ph,ph), (pw,pw)), 'constant')\n",
        "\n",
        "        for i in range(h_out):\n",
        "            for j in range(w_out):\n",
        "                x_slice = x_padded[:, :, i*sh:i*sh+kh, j*sw:j*sw+kw]\n",
        "                for k in range(self.out_c):\n",
        "                    out[:, k, i, j] = np.sum(x_slice * self.W[k], axis=(1,2,3)) + self.b[k]\n",
        "        return out\n",
        "\n",
        "class ReLU:\n",
        "    def forward(self, x):\n",
        "        self.input = x\n",
        "        return np.maximum(0, x)\n",
        "\n",
        "class Flatten:\n",
        "    def forward(self, x):\n",
        "        self.input_shape = x.shape\n",
        "        return x.reshape(x.shape[0], -1)\n",
        "\n",
        "class Dense:\n",
        "    def __init__(self, in_features, out_features):\n",
        "        limit = np.sqrt(6 / (in_features + out_features))\n",
        "        self.W = np.random.uniform(-limit, limit, (in_features, out_features))\n",
        "        self.b = np.zeros((1, out_features))\n",
        "\n",
        "    def forward(self, x):\n",
        "        self.input = x\n",
        "        return x @ self.W + self.b\n",
        "\n",
        "class SoftmaxCrossEntropy:\n",
        "    def forward(self, logits, labels):\n",
        "        self.logits = logits\n",
        "        self.labels = labels\n",
        "        logits = logits - np.max(logits, axis=1, keepdims=True)\n",
        "        exp = np.exp(logits)\n",
        "        self.probs = exp / np.sum(exp, axis=1, keepdims=True)\n",
        "        log_likelihood = -np.log(self.probs[range(len(labels)), labels])\n",
        "        loss = np.mean(log_likelihood)\n",
        "        return loss"
      ],
      "metadata": {
        "id": "5XCnY_Bs3lJb"
      },
      "execution_count": null,
      "outputs": []
    },
    {
      "cell_type": "code",
      "source": [
        "# Residual and ResNet\n",
        "\n",
        "class ResidualBlock:\n",
        "    def __init__(self, in_channels, out_channels):\n",
        "        self.conv1 = Conv2D(in_channels, out_channels, kernel_size=3, padding=1)\n",
        "        self.relu1 = ReLU()\n",
        "        self.conv2 = Conv2D(out_channels, out_channels, kernel_size=3, padding=1)\n",
        "        self.relu2 = ReLU()\n",
        "        self.need_proj = in_channels != out_channels\n",
        "        if self.need_proj:\n",
        "            self.proj = Conv2D(in_channels, out_channels, kernel_size=1)\n",
        "\n",
        "    def forward(self, x):\n",
        "        identity = x\n",
        "        out = self.conv1.forward(x)\n",
        "        out = self.relu1.forward(out)\n",
        "        out = self.conv2.forward(out)\n",
        "        if self.need_proj:\n",
        "            identity = self.proj.forward(identity)\n",
        "        out += identity\n",
        "        return self.relu2.forward(out)\n",
        "\n",
        "class ResNet:\n",
        "    def __init__(self, num_classes=10):\n",
        "        self.conv = Conv2D(3, 16, kernel_size=3, padding=1)\n",
        "        self.relu = ReLU()\n",
        "\n",
        "        self.stage1 = [ResidualBlock(16, 16) for _ in range(3)]\n",
        "        self.stage2 = [ResidualBlock(16, 32) for _ in range(3)]\n",
        "        self.stage3 = [ResidualBlock(32, 64) for _ in range(3)]\n",
        "\n",
        "        self.flatten = Flatten()\n",
        "        self.fc = Dense(64 * 32 * 32, num_classes)\n",
        "\n",
        "    def forward(self, x):\n",
        "        out = self.conv.forward(x)\n",
        "        out = self.relu.forward(out)\n",
        "\n",
        "        for block in self.stage1:\n",
        "            out = block.forward(out)\n",
        "        for block in self.stage2:\n",
        "            out = block.forward(out)\n",
        "        for block in self.stage3:\n",
        "            out = block.forward(out)\n",
        "\n",
        "        out = self.flatten.forward(out)\n",
        "        out = self.fc.forward(out)\n",
        "        return out\n",
        "\n",
        "\n"
      ],
      "metadata": {
        "id": "32UTAom9yJZL"
      },
      "execution_count": null,
      "outputs": []
    },
    {
      "cell_type": "code",
      "source": [
        "# ------------------ TRAIN ------------------\n",
        "\n",
        "def train():\n",
        "    X_train, y_train, X_test, y_test = load_cifar10()\n",
        "    model = ResNet(num_classes=10)\n",
        "    criterion = SoftmaxCrossEntropy()\n",
        "\n",
        "    lr = 0.01\n",
        "    batch_size = 64\n",
        "    epochs = 3\n",
        "\n",
        "    for epoch in range(epochs):\n",
        "        perm = np.random.permutation(len(X_train))\n",
        "        X_train = X_train[perm]\n",
        "        y_train = y_train[perm]\n",
        "\n",
        "        total_loss = 0\n",
        "        for i in range(0, len(X_train), batch_size):\n",
        "            xb = X_train[i:i+batch_size]\n",
        "            yb = y_train[i:i+batch_size]\n",
        "\n",
        "            logits = model.forward(xb)\n",
        "            loss = criterion.forward(logits, yb)\n",
        "            total_loss += loss\n",
        "\n",
        "        print(f\"[Epoch {epoch+1}] Loss: {total_loss:.4f}\")\n",
        "\n",
        "if __name__ == '__main__':\n",
        "    train()"
      ],
      "metadata": {
        "id": "GwARicSByJbg"
      },
      "execution_count": null,
      "outputs": []
    },
    {
      "cell_type": "code",
      "source": [],
      "metadata": {
        "id": "wXKmlNMYyJdZ"
      },
      "execution_count": null,
      "outputs": []
    },
    {
      "cell_type": "code",
      "source": [],
      "metadata": {
        "id": "tn5ngzwRyJfk"
      },
      "execution_count": null,
      "outputs": []
    }
  ]
}